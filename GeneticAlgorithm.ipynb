{
  "cells": [
    {
      "cell_type": "markdown",
      "id": "2a6ec878",
      "metadata": {
        "id": "2a6ec878"
      },
      "source": [
        "# Assignment #3: Genetic Algorithm (Training Cars with GA)"
      ]
    },
    {
      "cell_type": "markdown",
      "id": "c78e4fd8",
      "metadata": {
        "id": "c78e4fd8"
      },
      "source": [
        "### Required Libraries"
      ]
    },
    {
      "cell_type": "code",
      "execution_count": null,
      "id": "57dd98a9",
      "metadata": {
        "id": "57dd98a9",
        "outputId": "6aa1e0f3-68ea-4df6-c004-13202a648e51"
      },
      "outputs": [
        {
          "name": "stdout",
          "output_type": "stream",
          "text": [
            "Requirement already satisfied: pygame in d:\\anaconda\\lib\\site-packages (2.5.2)\n",
            "Note: you may need to restart the kernel to use updated packages.\n"
          ]
        }
      ],
      "source": [
        "pip install pygame"
      ]
    },
    {
      "cell_type": "code",
      "execution_count": null,
      "id": "e69c557e",
      "metadata": {
        "id": "e69c557e",
        "outputId": "db6e6593-5f2e-4a0e-9c3e-82706c33fe80"
      },
      "outputs": [
        {
          "name": "stdout",
          "output_type": "stream",
          "text": [
            "pygame 2.5.2 (SDL 2.28.3, Python 3.11.5)\n",
            "Hello from the pygame community. https://www.pygame.org/contribute.html\n"
          ]
        }
      ],
      "source": [
        "import pygame\n",
        "import time\n",
        "import math\n",
        "import random"
      ]
    },
    {
      "cell_type": "markdown",
      "id": "a36514cc",
      "metadata": {
        "id": "a36514cc"
      },
      "source": [
        "### Helping functions"
      ]
    },
    {
      "cell_type": "code",
      "execution_count": null,
      "id": "c5adf261",
      "metadata": {
        "id": "c5adf261"
      },
      "outputs": [],
      "source": [
        "def scale_image(img, factor):\n",
        "    size = round(img.get_width() * factor), round(img.get_height() * factor)\n",
        "    return pygame.transform.scale(img, size)\n",
        "\n",
        "def blit_rotate_center(win, image, top_left, angle):\n",
        "    rotated_image = pygame.transform.rotate(image, angle)\n",
        "    new_rect = rotated_image.get_rect(\n",
        "        center=image.get_rect(topleft=top_left).center)\n",
        "    win.blit(rotated_image, new_rect.topleft)\n",
        "\n",
        "def blit_text_center(win, font, text):\n",
        "    render = font.render(text, 1, (200, 200, 200))\n",
        "    win.blit(render, (win.get_width()/2 - render.get_width() /\n",
        "                      2, win.get_height()/2 - render.get_height()/2))"
      ]
    },
    {
      "cell_type": "markdown",
      "id": "3327d70c",
      "metadata": {
        "id": "3327d70c"
      },
      "source": [
        "### Abstract Classes"
      ]
    },
    {
      "cell_type": "code",
      "execution_count": null,
      "id": "3f61c856",
      "metadata": {
        "id": "3f61c856"
      },
      "outputs": [],
      "source": [
        "class GameInfo:\n",
        "    LEVELS = 1\n",
        "\n",
        "    def __init__(self, level=1):\n",
        "        self.level = level\n",
        "        self.started = False\n",
        "        self.level_start_time = 0\n",
        "\n",
        "    def next_level(self):\n",
        "        self.level += 1\n",
        "        self.started = False\n",
        "\n",
        "    def reset(self):\n",
        "        self.level = 1\n",
        "        self.started = False\n",
        "        self.level_start_time = 0\n",
        "\n",
        "    def game_finished(self):\n",
        "        return self.level > self.LEVELS\n",
        "\n",
        "    def start_level(self):\n",
        "        self.started = True\n",
        "        self.level_start_time = time.time()\n",
        "\n",
        "    def get_level_time(self):\n",
        "        if not self.started:\n",
        "            return 0\n",
        "        return round(time.time() - self.level_start_time)"
      ]
    },
    {
      "cell_type": "markdown",
      "id": "78c945ee",
      "metadata": {
        "id": "78c945ee"
      },
      "source": [
        "### Sensor Class"
      ]
    },
    {
      "cell_type": "code",
      "execution_count": null,
      "id": "3ac123dd",
      "metadata": {
        "id": "3ac123dd"
      },
      "outputs": [],
      "source": [
        "class SensorBullet:\n",
        "    def __init__(self, car, base_angle, vel, color):\n",
        "        self.x = car.x + CAR_WIDTH/2\n",
        "        self.y = car.y + CAR_HEIGHT/2\n",
        "        self.angle = car.angle\n",
        "        self.base_angle = base_angle\n",
        "        self.vel = vel\n",
        "        self.color = color\n",
        "        self.img = pygame.Surface((4, 4))\n",
        "        self.fired = False\n",
        "        self.hit = False\n",
        "        self.last_poi = None\n",
        "\n",
        "    def draw(self, win):\n",
        "        pygame.draw.circle(win, self.color, (self.x, self.y), 2)\n",
        "\n",
        "    def fire(self, car):\n",
        "        self.angle = car.angle + self.base_angle\n",
        "        self.x = car.x + CAR_WIDTH/2\n",
        "        self.y = car.y + CAR_HEIGHT/2\n",
        "        self.fired = True\n",
        "        self.hit = False\n",
        "\n",
        "    def move(self):\n",
        "        if(self.fired):\n",
        "            radians = math.radians(self.angle)\n",
        "            vertical = math.cos(radians) * self.vel\n",
        "            horizontal = math.sin(radians) * self.vel\n",
        "\n",
        "            self.y -= vertical\n",
        "            self.x -= horizontal\n",
        "\n",
        "    def collide(self, x=0, y=0):\n",
        "        bullet_mask = pygame.mask.from_surface(self.img)\n",
        "        offset = (int(self.x - x), int(self.y - y))\n",
        "        poi = TRACK_BORDER_MASK.overlap(bullet_mask, offset)\n",
        "        if poi:\n",
        "            self.fired = False\n",
        "            self.hit = True\n",
        "            self.last_poi = poi\n",
        "        return poi\n",
        "\n",
        "    def draw_line(self, win, car):\n",
        "        if self.hit:\n",
        "            pygame.draw.line(win, self.color, (car.x + CAR_WIDTH/2, car.y + CAR_HEIGHT/2), (self.x, self.y), 1)\n",
        "            pygame.display.update()\n",
        "\n",
        "    def get_distance_from_poi(self, car):\n",
        "        if self.last_poi is None:\n",
        "            return -1\n",
        "        return math.sqrt((car.x - self.last_poi[0])**2 + (car.y - self.last_poi[1])**2)"
      ]
    },
    {
      "cell_type": "markdown",
      "id": "e05a448f",
      "metadata": {
        "id": "e05a448f"
      },
      "source": [
        "### Drawing and Collision functions"
      ]
    },
    {
      "cell_type": "code",
      "execution_count": null,
      "id": "c97c9750",
      "metadata": {
        "id": "c97c9750"
      },
      "outputs": [],
      "source": [
        "def draw(win, images, cars, game_info, checkpoints, n_cars, generation):\n",
        "\n",
        "    for img, pos in images:\n",
        "        win.blit(img, pos)\n",
        "\n",
        "    for checkpoint in checkpoints:\n",
        "        win.blit(checkpoint['image'], checkpoint['position'])\n",
        "\n",
        "    win.blit(TRACK_BORDER, (0, 0))\n",
        "\n",
        "\n",
        "    time_text = MAIN_FONT.render(\n",
        "        f\"Time: {game_info.get_level_time()}s\", 1, (255, 255, 255))\n",
        "    win.blit(time_text, (10, HEIGHT - time_text.get_height() - 40))\n",
        "\n",
        "    c_text = MAIN_FONT.render(\n",
        "        f\"No. of Cars: {n_cars}\", 1, (255, 255, 255))\n",
        "    win.blit(c_text, (10, HEIGHT - time_text.get_height() - 70))\n",
        "\n",
        "    g_text = MAIN_FONT.render(\n",
        "        f\"Generation: {generation}\", 1, (255, 255, 255))\n",
        "    win.blit(g_text, (10, HEIGHT - time_text.get_height() - 100))\n",
        "\n",
        "    for car in cars:\n",
        "        if car.active:\n",
        "            car.draw(win)\n",
        "            for bullet in car.sensors:\n",
        "                bullet.draw(win)\n",
        "\n",
        "\n",
        "    pygame.display.update()\n",
        "\n",
        "\n",
        "def handle_collision(car, checkpoints:list(),FINISH_MASK):\n",
        "    if car.collide(TRACK_BORDER_MASK) != None:\n",
        "        car.bounce()\n",
        "        car.active = False\n",
        "\n",
        "    for bullet in car.sensors:\n",
        "        if bullet.collide() != None:\n",
        "            bullet.draw_line(WIN, car)\n",
        "\n",
        "    player_finish_poi_collide = car.collide(\n",
        "        FINISH_MASK, *FINISH_POSITION)\n",
        "    if player_finish_poi_collide != None:\n",
        "        if player_finish_poi_collide[1] == 0:\n",
        "            car.bounce()\n",
        "            car.score -= 0.01\n",
        "            car.active = False\n",
        "        else:\n",
        "            car.completed = True\n",
        "            return True\n",
        "\n",
        "    idx = car.checkpoints\n",
        "    if idx < 10:\n",
        "        player_checkpoint_collide = car.collide(checkpoints[idx]['mask'], *checkpoints[idx]['position'])\n",
        "        if player_checkpoint_collide != None:\n",
        "            car.checkpoints += 1\n",
        "            car.score += 1\n",
        "            car.time = game_info.get_level_time()\n",
        "    else:\n",
        "        car.completed = True\n",
        "        return True"
      ]
    },
    {
      "cell_type": "markdown",
      "id": "e5ebe80f",
      "metadata": {
        "id": "e5ebe80f"
      },
      "source": [
        "### Abstract Car Class"
      ]
    },
    {
      "cell_type": "code",
      "execution_count": null,
      "id": "4cc3362c",
      "metadata": {
        "id": "4cc3362c"
      },
      "outputs": [],
      "source": [
        "class AbstractCar:\n",
        "    def __init__(self):\n",
        "        self.img = self.IMG\n",
        "        self.vel = 0\n",
        "        self.angle = 0\n",
        "        self.x, self.y = self.START_POS\n",
        "\n",
        "    def draw(self, win):\n",
        "        blit_rotate_center(win, self.img, (self.x, self.y), self.angle)\n",
        "\n",
        "    def collide(self, mask, x=0, y=0):\n",
        "        car_mask = pygame.mask.from_surface(self.img)\n",
        "        offset = (int(self.x - x), int(self.y - y))\n",
        "        poi = mask.overlap(car_mask, offset)\n",
        "        return poi\n",
        "\n",
        "    def action(self,direction, acceleration):\n",
        "        if direction == 1:\n",
        "            self.vel = acceleration\n",
        "        elif direction == 2:\n",
        "            self.vel = -acceleration / 2\n",
        "        elif direction == 3:\n",
        "            self.angle += -acceleration\n",
        "        elif direction == 4:\n",
        "            self.angle += acceleration\n",
        "\n",
        "        self.move()\n",
        "\n",
        "    def move(self):\n",
        "        radians = math.radians(self.angle)\n",
        "        vertical = math.cos(radians) * self.vel\n",
        "        horizontal = math.sin(radians) * self.vel\n",
        "\n",
        "        self.y -= vertical\n",
        "        self.x -= horizontal\n"
      ]
    },
    {
      "cell_type": "markdown",
      "id": "a9d35de4",
      "metadata": {
        "id": "a9d35de4"
      },
      "source": [
        "### Window Initialization"
      ]
    },
    {
      "cell_type": "code",
      "execution_count": null,
      "id": "76a19239",
      "metadata": {
        "id": "76a19239"
      },
      "outputs": [],
      "source": [
        "pygame.font.init()\n",
        "\n",
        "WIDTH, HEIGHT = 800,800\n",
        "WIN = pygame.display.set_mode((WIDTH, HEIGHT))\n",
        "pygame.display.set_caption(\"Genetic Algorithm on cars! (Assignment #3)\")\n",
        "\n",
        "MAIN_FONT = pygame.font.SysFont(\"comicsans\", 44)\n",
        "\n",
        "GRASS = scale_image(pygame.image.load(\"grass.jpg\"), 2.5)\n",
        "TRACK = scale_image(pygame.image.load(\"track.png\"), 0.9)\n",
        "\n",
        "TRACK_BORDER = scale_image(pygame.image.load(\"track-border.png\"), 0.9)\n",
        "TRACK_BORDER_MASK = pygame.mask.from_surface(TRACK_BORDER)\n",
        "\n",
        "FINISH = pygame.image.load(\"finish.png\")\n",
        "\n",
        "FINISH_MASK = pygame.mask.from_surface(FINISH)\n",
        "FINISH_POSITION = (130, 250)\n",
        "\n",
        "\n",
        "RED_CAR = scale_image(pygame.image.load(\"red-car.png\"), 0.40)\n",
        "\n",
        "CAR_WIDTH, CAR_HEIGHT = RED_CAR.get_width(), RED_CAR.get_height()"
      ]
    },
    {
      "cell_type": "markdown",
      "id": "2df24ac6",
      "metadata": {
        "id": "2df24ac6"
      },
      "source": [
        "### Agent Car Class"
      ]
    },
    {
      "cell_type": "code",
      "execution_count": null,
      "id": "3c22f126",
      "metadata": {
        "id": "3c22f126"
      },
      "outputs": [],
      "source": [
        "RED_CAR = scale_image(pygame.image.load(\"red-car.png\"), 0.40)\n",
        "\n",
        "CAR_WIDTH, CAR_HEIGHT = RED_CAR.get_width(), RED_CAR.get_height()\n",
        "class AgentCar(AbstractCar):\n",
        "    IMG = RED_CAR\n",
        "    START_POS = (160, 200)\n",
        "\n",
        "    def __init__(self):\n",
        "        super().__init__()\n",
        "        self.sensors = [SensorBullet(self, 45, 20, (0, 0, 255)), SensorBullet(self, 25, 20, (0, 0, 255)), SensorBullet(self, 0, 20, (0, 255, 0)), SensorBullet(self, -25, 20, (0, 0, 255)), SensorBullet(self, -45, 20, (0, 0, 255))]\n",
        "        self.completed = False\n",
        "        self.active = True\n",
        "        self.checkpoints = 0\n",
        "        self.score = 0\n",
        "        self.time = 0\n",
        "        self.sensor_combinations = []\n",
        "        for i in range(2**5):\n",
        "            binary_str = bin(i)[2:].zfill(5)\n",
        "            self.sensor_combinations.append([int(bit) for bit in binary_str])\n",
        "        self.chromosome = self.initailze_chromosome()\n",
        "\n",
        "    def reduce_speed(self):\n",
        "        self.vel = max(self.vel - 0.1 / 2, 0)\n",
        "        self.move()\n",
        "\n",
        "    def bounce(self):\n",
        "        self.vel = -self.vel\n",
        "        self.move()\n",
        "\n",
        "    def fireSensors(self):\n",
        "        for bullet in self.sensors:\n",
        "            bullet.fire(self)\n",
        "\n",
        "    def sensorControl(self):\n",
        "        #print(contains(self.sensors, lambda x: x.hit))\n",
        "\n",
        "        for bullet in self.sensors:\n",
        "            if not bullet.fired:\n",
        "                bullet.fire(self)\n",
        "\n",
        "        for bullet in self.sensors:\n",
        "            bullet.move()\n",
        "\n",
        "    def get_distance_array(self):\n",
        "        continous = [bullet.get_distance_from_poi(self) for bullet in self.sensors]\n",
        "        discrete_distance = [1 if i <= 75 else 0 for i in continous]\n",
        "        return discrete_distance\n",
        "\n",
        "    def reset(self):\n",
        "        self.x, self.y = self.START_POS\n",
        "        self.angle = 0\n",
        "        self.vel = 0\n",
        "        self.checkpoints = 0\n",
        "        self.score = 0\n",
        "        self.time = 0\n",
        "        self.active = True\n",
        "\n",
        "    def reset_score(self):\n",
        "        self.score = 0\n",
        "\n",
        "    def initailze_chromosome(self):\n",
        "        chromosomes = {}\n",
        "\n",
        "        for state in self.sensor_combinations:\n",
        "            direction = random.randint(1, 4)\n",
        "#             acc = random.randint(1, 10)\n",
        "            chromosomes[str(state)] = direction\n",
        "\n",
        "        return chromosomes\n",
        "\n",
        "    def move_car(self):\n",
        "        input_state = self.get_distance_array()\n",
        "\n",
        "        actions = self.chromosome[str(input_state)]\n",
        "\n",
        "        speed = 2.5\n",
        "        self.action(actions, speed)"
      ]
    },
    {
      "cell_type": "markdown",
      "id": "6c1ac5f9",
      "metadata": {
        "id": "6c1ac5f9"
      },
      "source": [
        "### Fitness, Crossover, Mutation Functions"
      ]
    },
    {
      "cell_type": "code",
      "execution_count": null,
      "id": "a7d4aa16",
      "metadata": {
        "id": "a7d4aa16"
      },
      "outputs": [],
      "source": [
        "\n",
        "import random\n",
        "\n",
        "def calculate_fitness(car):\n",
        "    alpha = 1.0\n",
        "    beta = 500.0  # Increase emphasis on checkpoints\n",
        "    gamma = 1.0\n",
        "    zeta = 500  # Bonus for completion\n",
        "\n",
        "    fitness = (alpha * car.score +\n",
        "               beta * car.checkpoints -\n",
        "               gamma * car.time)\n",
        "\n",
        "    if car.completed:\n",
        "        fitness += zeta\n",
        "\n",
        "    return fitness\n",
        "\n",
        "\n",
        "# CrossOver\n",
        "def crossover(parent1, parent2):\n",
        "    child1_chromosome = {}\n",
        "    child2_chromosome = {}\n",
        "\n",
        "    keys = list(parent1.chromosome.keys())\n",
        "    crossover_point = random.randint(0, len(keys) - 1)\n",
        "\n",
        "    # Genes before the crossover point are from parent1 for child1 and from parent2 for child2\n",
        "    for key in keys[:crossover_point]:\n",
        "        child1_chromosome[key] = parent1.chromosome[key]\n",
        "        child2_chromosome[key] = parent2.chromosome[key]\n",
        "\n",
        "    # Genes after the crossover point are from parent2 for child1 and from parent1 for child2\n",
        "    for key in keys[crossover_point:]:\n",
        "        child1_chromosome[key] = parent2.chromosome[key]\n",
        "        child2_chromosome[key] = parent1.chromosome[key]\n",
        "\n",
        "    return child1_chromosome, child2_chromosome\n",
        "\n",
        "def mutation(chromosome, mutation_rate):\n",
        "    for key in chromosome.keys():\n",
        "        if random.random() < mutation_rate:\n",
        "            chromosome[key] = random.randint(1, 4)\n",
        "    return chromosome\n"
      ]
    },
    {
      "cell_type": "markdown",
      "id": "5a3989fd",
      "metadata": {
        "id": "5a3989fd"
      },
      "source": [
        "# Driver Code/ Training"
      ]
    },
    {
      "cell_type": "code",
      "execution_count": null,
      "id": "ae78927a",
      "metadata": {
        "scrolled": true,
        "id": "ae78927a",
        "outputId": "04096ca1-7586-43d8-b1dd-c8bfbc6e026c"
      },
      "outputs": [
        {
          "name": "stdout",
          "output_type": "stream",
          "text": [
            "How many CheckPoints crossed:  5\n",
            "How many CheckPoints crossed:  4\n",
            "Best car completed all checkpoints. Exiting.\n",
            "How many CheckPoints crossed:  4\n"
          ]
        }
      ],
      "source": [
        "#Intialize population\n",
        "pop_size = 30\n",
        "cars  = [AgentCar() for _ in range(pop_size)]\n",
        "active_cars = pop_size\n",
        "generation = 0\n",
        "max_checkpoints = 0\n",
        "\n",
        "while True:\n",
        "    active_cars = pop_size\n",
        "    pygame.font.init()\n",
        "\n",
        "    MAIN_FONT = pygame.font.SysFont(\"comicsans\", 44)\n",
        "    GRASS = scale_image(pygame.image.load(\"grass.jpg\"), 2.5)\n",
        "    TRACK = scale_image(pygame.image.load(\"track.png\"), 0.9)\n",
        "    TRACK_BORDER = scale_image(pygame.image.load(\"track-border.png\"), 0.9)\n",
        "    TRACK_BORDER_MASK = pygame.mask.from_surface(TRACK_BORDER)\n",
        "    FINISH = pygame.image.load(\"finish.png\")\n",
        "    FINISH_MASK = pygame.mask.from_surface(FINISH)\n",
        "    FINISH_POSITION = (130, 250)\n",
        "    RED_CAR = scale_image(pygame.image.load(\"red-car.png\"), 0.40)\n",
        "    CAR_WIDTH, CAR_HEIGHT = RED_CAR.get_width(), RED_CAR.get_height()\n",
        "\n",
        "    checkpoint_image = pygame.image.load(\"finish.png\")\n",
        "    checks = [(130, 150),(130, 60), (110,30), (30,60) ,(0,150), (0, 250) ,(0,350),(90,550),(190,650),(350,650)]\n",
        "    checkpoints = list()\n",
        "\n",
        "    for position in checks:\n",
        "        if position in [(550,320),(550,200),(655,680),(110,30) ]:\n",
        "            checkpoint_mask = pygame.mask.from_surface(pygame.transform.rotate(checkpoint_image, 90))\n",
        "            checkpoints.append({\n",
        "                'image': pygame.transform.rotate(checkpoint_image, 90),\n",
        "                'mask': checkpoint_mask,\n",
        "                'position': position\n",
        "            })\n",
        "        elif position == (130, 60):\n",
        "            checkpoint_mask = pygame.mask.from_surface(pygame.transform.rotate(checkpoint_image, 45))\n",
        "            checkpoints.append({\n",
        "                'image': pygame.transform.rotate(checkpoint_image, 45),\n",
        "                'mask': checkpoint_mask,\n",
        "                'position': position\n",
        "            })\n",
        "\n",
        "        elif position == (30, 60):\n",
        "            checkpoint_mask = pygame.mask.from_surface(pygame.transform.rotate(checkpoint_image, 135))\n",
        "            checkpoints.append({\n",
        "                'image': pygame.transform.rotate(checkpoint_image, 135),\n",
        "                'mask': checkpoint_mask,\n",
        "                'position': position\n",
        "            })\n",
        "        else:\n",
        "            checkpoint_mask = pygame.mask.from_surface(checkpoint_image)\n",
        "            checkpoints.append({\n",
        "                'image': checkpoint_image,\n",
        "                'mask': checkpoint_mask,\n",
        "                'position': position\n",
        "            })\n",
        "    clock = pygame.time.Clock()\n",
        "    images = [(GRASS, (0, 0)), (TRACK, (0, 0)), (FINISH, FINISH_POSITION)]\n",
        "\n",
        "    WIDTH, HEIGHT = 800,800\n",
        "    WIN = pygame.display.set_mode((WIDTH, HEIGHT))\n",
        "    pygame.display.set_caption(\"Autonomus Car2!\")\n",
        "\n",
        "    generation += 1\n",
        "    game_info = GameInfo()\n",
        "    prev_parents = list()\n",
        "    prev_cum_sum = 0\n",
        "\n",
        "    factor = 4\n",
        "    max_time = factor *  max_checkpoints + 10\n",
        "    check = False\n",
        "    while game_info.get_level_time() < max_time and active_cars > 0:\n",
        "    #     clock.tick(FPS)\n",
        "        if game_info.started == False:\n",
        "            game_info.start_level()\n",
        "\n",
        "        draw(WIN, images, cars, game_info,checkpoints,active_cars, generation)\n",
        "\n",
        "        for event in pygame.event.get():\n",
        "            if event.type == pygame.QUIT:\n",
        "                break\n",
        "\n",
        "        active_cars = 0\n",
        "        for car in cars:\n",
        "            if car.active and not car.completed:\n",
        "                active_cars+=1\n",
        "                car.sensorControl()\n",
        "                car.move_car()\n",
        "                check = handle_collision(car, checkpoints, FINISH_MASK)\n",
        "\n",
        "     # ----------------------------------------------------------------------#\n",
        "    #                   Your GA code stars below this point                 #\n",
        "    # ----------------------------------------------------------------------#\n",
        "\n",
        "    cars.sort(key=calculate_fitness, reverse=True)\n",
        "\n",
        "    # Check if the best car has completed the race\n",
        "    if cars[0].completed:\n",
        "        print(\"Best car completed all checkpoints. Exiting.\")\n",
        "        break\n",
        "\n",
        "\n",
        "    # Selection: Select parents\n",
        "    parents = cars[:pop_size // 2]\n",
        "\n",
        "    # Create a new generation\n",
        "    new_generation = []\n",
        "    # Add the top-performing car (the elite) directly to the next generation\n",
        "    elite = cars[0]\n",
        "    new_generation.append(elite)\n",
        "    while len(new_generation) < pop_size:\n",
        "        # Select 2 parents using any selection algorithm\n",
        "        parent1, parent2 = random.choice(parents), random.choice(parents)\n",
        "\n",
        "        # Create 2 children as instances of the AgentCar class\n",
        "        child1, child2 = AgentCar(), AgentCar()\n",
        "\n",
        "        # Set each child's chromosome as a two-point crossover of parent's chromosome\n",
        "        crossover_point1 = random.randint(1, len(parent1.chromosome) - 2)\n",
        "        crossover_point2 = random.randint(crossover_point1, len(parent1.chromosome) - 1)\n",
        "\n",
        "        child1.chromosome = {**dict(list(parent1.chromosome.items())[:crossover_point1]),\n",
        "                             **dict(list(parent2.chromosome.items())[crossover_point1:crossover_point2]),\n",
        "                             **dict(list(parent1.chromosome.items())[crossover_point2:])}\n",
        "        child2.chromosome = {**dict(list(parent2.chromosome.items())[:crossover_point1]),\n",
        "                             **dict(list(parent1.chromosome.items())[crossover_point1:crossover_point2]),\n",
        "                             **dict(list(parent2.chromosome.items())[crossover_point2:])}\n",
        "\n",
        "        # Mutate each child's chromosome with a mutation rate 0.2\n",
        "        mutation_rate = 0.20\n",
        "        for child in [child1, child2]:\n",
        "            for key in child.chromosome:\n",
        "                if random.random() < mutation_rate:\n",
        "                    # Instead of purely random mutations, introduce tweaks to current values\n",
        "                    mutation = random.choice([-1, 1])\n",
        "                    child.chromosome[key] = min(4, max(1, child.chromosome[key] + mutation))\n",
        "\n",
        "        new_generation.extend([child1, child2])\n",
        "        max_checkpoints = cars[0].checkpoints\n",
        "\n",
        "    # Update max_checkpoints based on the best car\n",
        "    try:\n",
        "        max_checkpoints = cars[0].checkpoints\n",
        "        print(\"How many CheckPoints crossed: \", max_checkpoints)\n",
        "    except IndexError:\n",
        "        max_checkpoints = 0\n",
        "\n",
        "    # Replace the old generation with the new generation\n",
        "    cars = new_generation\n",
        "\n",
        "    # Reset state of each car in the old generation\n",
        "    for car in cars:\n",
        "        car.reset()\n",
        "    # Let this stay here, it will quit the game at each generation and begin a new one\n",
        "    pygame.quit()\n",
        "print(\"How many CheckPoints crossed: \", max_checkpoints)\n",
        "pygame.quit()"
      ]
    },
    {
      "cell_type": "markdown",
      "id": "6032710e",
      "metadata": {
        "id": "6032710e"
      },
      "source": [
        "# Saving chromosomes of population which cleared 10 checkpoints"
      ]
    },
    {
      "cell_type": "code",
      "execution_count": null,
      "id": "89155faf",
      "metadata": {
        "id": "89155faf",
        "outputId": "6755e62d-b827-4ba7-c0a6-35a480818581"
      },
      "outputs": [
        {
          "data": {
            "text/plain": [
              "[<__main__.AgentCar at 0x2554e8b3f50>,\n",
              " <__main__.AgentCar at 0x2554e8f6090>,\n",
              " <__main__.AgentCar at 0x2554e91ca90>,\n",
              " <__main__.AgentCar at 0x2554e92b710>,\n",
              " <__main__.AgentCar at 0x2554e2e8b90>,\n",
              " <__main__.AgentCar at 0x2554f543310>,\n",
              " <__main__.AgentCar at 0x2554f563710>,\n",
              " <__main__.AgentCar at 0x2554f5640d0>,\n",
              " <__main__.AgentCar at 0x2554f565690>,\n",
              " <__main__.AgentCar at 0x2554f543090>,\n",
              " <__main__.AgentCar at 0x2554e938650>,\n",
              " <__main__.AgentCar at 0x2554e8aaed0>,\n",
              " <__main__.AgentCar at 0x2554e8aa2d0>,\n",
              " <__main__.AgentCar at 0x2554e8a84d0>,\n",
              " <__main__.AgentCar at 0x2554e932310>,\n",
              " <__main__.AgentCar at 0x2554f575bd0>,\n",
              " <__main__.AgentCar at 0x2554f576490>,\n",
              " <__main__.AgentCar at 0x2554f577d50>,\n",
              " <__main__.AgentCar at 0x2554f56e710>,\n",
              " <__main__.AgentCar at 0x2554f56c1d0>,\n",
              " <__main__.AgentCar at 0x2554f57c850>,\n",
              " <__main__.AgentCar at 0x2554f57c0d0>,\n",
              " <__main__.AgentCar at 0x2554f57d050>,\n",
              " <__main__.AgentCar at 0x2554f5836d0>,\n",
              " <__main__.AgentCar at 0x2554f54bc90>,\n",
              " <__main__.AgentCar at 0x2554f54bd50>,\n",
              " <__main__.AgentCar at 0x2554e8b5fd0>,\n",
              " <__main__.AgentCar at 0x2554f585b90>,\n",
              " <__main__.AgentCar at 0x2554f586e50>,\n",
              " <__main__.AgentCar at 0x2554f587fd0>,\n",
              " <__main__.AgentCar at 0x2554e909510>]"
            ]
          },
          "execution_count": 12,
          "metadata": {},
          "output_type": "execute_result"
        }
      ],
      "source": [
        "import pickle\n",
        "file_name = \"sampl.pkl\"\n",
        "\n",
        "car_chromosomes = [car.chromosome for car in cars]\n",
        "\n",
        "open_file = open(file_name, \"wb\")\n",
        "pickle.dump(car_chromosomes, open_file)\n",
        "open_file.close()\n",
        "\n",
        "open_file = open(file_name, \"rb\")\n",
        "loaded_list = pickle.load(open_file)\n",
        "open_file.close()\n",
        "\n",
        "new_cars = list()\n",
        "for i in range(len(loaded_list)):\n",
        "    car = AgentCar()\n",
        "    car.chromosome = loaded_list[i]\n",
        "    new_cars.append(car)\n",
        "new_cars"
      ]
    },
    {
      "cell_type": "code",
      "execution_count": null,
      "id": "293fb64e",
      "metadata": {
        "id": "293fb64e",
        "outputId": "01545dc7-1f12-47af-933f-16734ba7e4f0"
      },
      "outputs": [
        {
          "data": {
            "text/plain": [
              "{'[0, 0, 0, 0, 0]': 4,\n",
              " '[0, 0, 0, 0, 1]': 3,\n",
              " '[0, 0, 0, 1, 0]': 3,\n",
              " '[0, 0, 0, 1, 1]': 3,\n",
              " '[0, 0, 1, 0, 0]': 2,\n",
              " '[0, 0, 1, 0, 1]': 2,\n",
              " '[0, 0, 1, 1, 0]': 1,\n",
              " '[0, 0, 1, 1, 1]': 3,\n",
              " '[0, 1, 0, 0, 0]': 3,\n",
              " '[0, 1, 0, 0, 1]': 4,\n",
              " '[0, 1, 0, 1, 0]': 2,\n",
              " '[0, 1, 0, 1, 1]': 4,\n",
              " '[0, 1, 1, 0, 0]': 1,\n",
              " '[0, 1, 1, 0, 1]': 4,\n",
              " '[0, 1, 1, 1, 0]': 2,\n",
              " '[0, 1, 1, 1, 1]': 1,\n",
              " '[1, 0, 0, 0, 0]': 4,\n",
              " '[1, 0, 0, 0, 1]': 4,\n",
              " '[1, 0, 0, 1, 0]': 3,\n",
              " '[1, 0, 0, 1, 1]': 4,\n",
              " '[1, 0, 1, 0, 0]': 2,\n",
              " '[1, 0, 1, 0, 1]': 1,\n",
              " '[1, 0, 1, 1, 0]': 3,\n",
              " '[1, 0, 1, 1, 1]': 1,\n",
              " '[1, 1, 0, 0, 0]': 4,\n",
              " '[1, 1, 0, 0, 1]': 1,\n",
              " '[1, 1, 0, 1, 0]': 3,\n",
              " '[1, 1, 0, 1, 1]': 1,\n",
              " '[1, 1, 1, 0, 0]': 1,\n",
              " '[1, 1, 1, 0, 1]': 3,\n",
              " '[1, 1, 1, 1, 0]': 1,\n",
              " '[1, 1, 1, 1, 1]': 4}"
            ]
          },
          "execution_count": 13,
          "metadata": {},
          "output_type": "execute_result"
        }
      ],
      "source": [
        "loaded_list[10]"
      ]
    },
    {
      "cell_type": "markdown",
      "id": "b4763d87",
      "metadata": {
        "id": "b4763d87"
      },
      "source": [
        "# Testing"
      ]
    },
    {
      "cell_type": "code",
      "execution_count": null,
      "id": "66e47468",
      "metadata": {
        "id": "66e47468"
      },
      "outputs": [],
      "source": [
        "pygame.font.init()\n",
        "\n",
        "MAIN_FONT = pygame.font.SysFont(\"comicsans\", 44)\n",
        "GRASS = scale_image(pygame.image.load(\"grass.jpg\"), 2.5)\n",
        "TRACK = scale_image(pygame.image.load(\"track.png\"), 0.9)\n",
        "TRACK_BORDER = scale_image(pygame.image.load(\"track-border.png\"), 0.9)\n",
        "TRACK_BORDER_MASK = pygame.mask.from_surface(TRACK_BORDER)\n",
        "FINISH = pygame.image.load(\"finish.png\")\n",
        "FINISH_MASK = pygame.mask.from_surface(FINISH)\n",
        "FINISH_POSITION = (130, 250)\n",
        "RED_CAR = scale_image(pygame.image.load(\"red-car.png\"), 0.40)\n",
        "CAR_WIDTH, CAR_HEIGHT = RED_CAR.get_width(), RED_CAR.get_height()\n",
        "\n",
        "checkpoint_image = pygame.image.load(\"finish.png\")\n",
        "checks = [(130, 150),(130, 60), (110,30), (30,60) ,(0,150), (0, 250) ,(0,350),(90,550),(190,650),(350,650)]\n",
        "checkpoints = list()\n",
        "\n",
        "for position in checks:\n",
        "    if position in [(550,320),(550,200),(655,680),(110,30) ]:\n",
        "        checkpoint_mask = pygame.mask.from_surface(pygame.transform.rotate(checkpoint_image, 90))\n",
        "        checkpoints.append({\n",
        "            'image': pygame.transform.rotate(checkpoint_image, 90),\n",
        "            'mask': checkpoint_mask,\n",
        "            'position': position\n",
        "        })\n",
        "    elif position == (130, 60):\n",
        "        checkpoint_mask = pygame.mask.from_surface(pygame.transform.rotate(checkpoint_image, 45))\n",
        "        checkpoints.append({\n",
        "            'image': pygame.transform.rotate(checkpoint_image, 45),\n",
        "            'mask': checkpoint_mask,\n",
        "            'position': position\n",
        "        })\n",
        "\n",
        "    elif position == (30, 60):\n",
        "        checkpoint_mask = pygame.mask.from_surface(pygame.transform.rotate(checkpoint_image, 135))\n",
        "        checkpoints.append({\n",
        "            'image': pygame.transform.rotate(checkpoint_image, 135),\n",
        "            'mask': checkpoint_mask,\n",
        "            'position': position\n",
        "        })\n",
        "    else:\n",
        "        checkpoint_mask = pygame.mask.from_surface(checkpoint_image)\n",
        "        checkpoints.append({\n",
        "            'image': checkpoint_image,\n",
        "            'mask': checkpoint_mask,\n",
        "            'position': position\n",
        "        })\n",
        "\n",
        "clock = pygame.time.Clock()\n",
        "images = [(GRASS, (0, 0)), (TRACK, (0, 0)), (FINISH, FINISH_POSITION)]\n",
        "WIDTH, HEIGHT = 800,800\n",
        "WIN = pygame.display.set_mode((WIDTH, HEIGHT))\n",
        "pygame.display.set_caption(\"Genetic Algorithm on cars! (Assignment #3)\")\n",
        "\n",
        "game_info = GameInfo()\n",
        "max_time = 50\n",
        "\n",
        "new_cars = list()\n",
        "for i in range(len(loaded_list)):\n",
        "    car = AgentCar()\n",
        "    car.chromosome = loaded_list[i]\n",
        "    new_cars.append(car)\n",
        "\n",
        "active_cars = len(new_cars)\n",
        "\n",
        "while game_info.get_level_time() < max_time and active_cars > 0:\n",
        "\n",
        "    if game_info.started == False:\n",
        "        game_info.start_level()\n",
        "\n",
        "    draw(WIN, images, new_cars, game_info,checkpoints,active_cars, \"Test\")\n",
        "\n",
        "    for event in pygame.event.get():\n",
        "        if event.type == pygame.QUIT:\n",
        "            break\n",
        "\n",
        "    active_cars = 0\n",
        "    for car in new_cars:\n",
        "        if car.active:\n",
        "            active_cars+=1\n",
        "            car.sensorControl()\n",
        "            car.move_car()\n",
        "            handle_collision(car, checkpoints, FINISH_MASK)\n",
        "\n",
        "pygame.quit()"
      ]
    },
    {
      "cell_type": "code",
      "execution_count": null,
      "id": "04ae4792",
      "metadata": {
        "id": "04ae4792"
      },
      "outputs": [],
      "source": []
    }
  ],
  "metadata": {
    "kernelspec": {
      "display_name": "Python 3 (ipykernel)",
      "language": "python",
      "name": "python3"
    },
    "language_info": {
      "codemirror_mode": {
        "name": "ipython",
        "version": 3
      },
      "file_extension": ".py",
      "mimetype": "text/x-python",
      "name": "python",
      "nbconvert_exporter": "python",
      "pygments_lexer": "ipython3",
      "version": "3.11.5"
    },
    "colab": {
      "provenance": []
    }
  },
  "nbformat": 4,
  "nbformat_minor": 5
}